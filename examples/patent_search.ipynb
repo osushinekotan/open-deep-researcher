{
 "cells": [
  {
   "cell_type": "code",
   "execution_count": null,
   "metadata": {},
   "outputs": [],
   "source": [
    "import sqlite3\n",
    "\n",
    "import dotenv\n",
    "import pandas as pd\n",
    "\n",
    "from open_deep_researcher.retriever.patent import (\n",
    "    SQLiteFTSPatentetriever,\n",
    "    generate_patent_search_keywords,\n",
    "    initialize_patent_database,\n",
    "    patent_search,\n",
    "    search_google_patents,\n",
    ")\n",
    "\n",
    "dotenv.load_dotenv()"
   ]
  },
  {
   "cell_type": "code",
   "execution_count": null,
   "metadata": {},
   "outputs": [],
   "source": [
    "# test generate_patent_search_keywords\n",
    "keywords = await generate_patent_search_keywords(topic=\"光格子時計\", llm_provider=\"openai\", llm_model=\"gpt-4o\")\n",
    "print(keywords)"
   ]
  },
  {
   "cell_type": "code",
   "execution_count": null,
   "metadata": {},
   "outputs": [],
   "source": [
    "# test search_google_patents\n",
    "keywords_list = keywords.keywords_list + keywords.translated_keywords_list\n",
    "results = await search_google_patents(keywords_list=keywords_list, limit=100)\n",
    "print(results[0])"
   ]
  },
  {
   "cell_type": "code",
   "execution_count": null,
   "metadata": {},
   "outputs": [],
   "source": [
    "# test patent db initialization\n",
    "topic = \"光格子時計\"\n",
    "db_path = \"tmp/patent_database.sqlite\"\n",
    "\n",
    "success = await initialize_patent_database(\n",
    "    topic=topic,\n",
    "    db_path=db_path,\n",
    "    llm_provider=\"openai\",\n",
    "    llm_model=\"gpt-4o\",\n",
    ")\n",
    "if success:\n",
    "    print(\"Database initialized successfully.\")\n",
    "\n",
    "    conn = sqlite3.connect(db_path)\n",
    "    query = \"\"\"\n",
    "    SELECT\n",
    "        patent_id,\n",
    "        title,\n",
    "        abstract,\n",
    "        publication_date,\n",
    "        url\n",
    "    FROM\n",
    "        patents\n",
    "    ORDER BY\n",
    "        publication_date DESC\n",
    "    \"\"\"\n",
    "    df = pd.read_sql_query(query, conn)\n",
    "    retriever = SQLiteFTSPatentetriever(db_path=db_path)\n",
    "    retriever.search(\"atomic clock\", limit=5)\n",
    "\n",
    "    conn.close()\n",
    "else:\n",
    "    print(\"Database initialization failed.\")"
   ]
  },
  {
   "cell_type": "code",
   "execution_count": null,
   "metadata": {},
   "outputs": [],
   "source": [
    "# test patent_search\n",
    "result = await patent_search(\n",
    "    search_queries=[\"atomic clock\"],\n",
    "    limit=5,\n",
    "    db_path=db_path,\n",
    ")\n",
    "print(result)"
   ]
  },
  {
   "cell_type": "code",
   "execution_count": 6,
   "metadata": {},
   "outputs": [],
   "source": [
    "# cleanup\n",
    "import shutil\n",
    "\n",
    "shutil.rmtree(\"tmp\")"
   ]
  }
 ],
 "metadata": {
  "kernelspec": {
   "display_name": ".venv",
   "language": "python",
   "name": "python3"
  },
  "language_info": {
   "codemirror_mode": {
    "name": "ipython",
    "version": 3
   },
   "file_extension": ".py",
   "mimetype": "text/x-python",
   "name": "python",
   "nbconvert_exporter": "python",
   "pygments_lexer": "ipython3",
   "version": "3.11.9"
  }
 },
 "nbformat": 4,
 "nbformat_minor": 2
}
