{
 "cells": [
  {
   "cell_type": "code",
   "execution_count": 1,
   "metadata": {},
   "outputs": [],
   "source": [
    "import uuid\n",
    "from pathlib import Path\n",
    "\n",
    "import dotenv\n",
    "import wikipedia\n",
    "from IPython.display import Image, display\n",
    "from langgraph.checkpoint.memory import MemorySaver\n",
    "\n",
    "from open_deep_researcher.graph import builder\n",
    "\n",
    "dotenv.load_dotenv()\n",
    "memory = MemorySaver()\n",
    "graph = builder.compile(checkpointer=memory)"
   ]
  },
  {
   "cell_type": "code",
   "execution_count": null,
   "metadata": {},
   "outputs": [],
   "source": [
    "display(Image(graph.get_graph().draw_mermaid_png()))"
   ]
  },
  {
   "cell_type": "code",
   "execution_count": 3,
   "metadata": {},
   "outputs": [],
   "source": [
    "TMP_DIR = Path(\"./tmp\")\n",
    "\n",
    "\n",
    "def download_wiki(query: str) -> Path:\n",
    "    doc_dir = TMP_DIR / \"docs\"\n",
    "    doc_dir.mkdir(exist_ok=True, parents=True)\n",
    "\n",
    "    filename = doc_dir / f\"{query.lower()}.txt\"\n",
    "    if filename.exists():\n",
    "        return doc_dir\n",
    "\n",
    "    with open(filename, \"w\", encoding=\"utf-8\") as f:\n",
    "        wikipedia.set_lang(\"ja\")\n",
    "        page = wikipedia.page(query)\n",
    "        text = page.content\n",
    "        f.write(text)\n",
    "    return doc_dir\n",
    "\n",
    "\n",
    "local_document_path = download_wiki(\"Python\")\n"
   ]
  },
  {
   "cell_type": "code",
   "execution_count": null,
   "metadata": {},
   "outputs": [],
   "source": [
    "# web search\n",
    "thread = {\n",
    "    \"configurable\": {\n",
    "        \"thread_id\": str(uuid.uuid4()),\n",
    "        \"skip_human_feedback\": True,\n",
    "        \"enable_deep_research\": False,\n",
    "        \"search_source\": \"web\",\n",
    "        \"web_search_config\": {\n",
    "            \"provider\": \"tavily\",\n",
    "            \"max_results\": 5,\n",
    "            \"include_raw_content\": False,\n",
    "        },\n",
    "    }\n",
    "}\n",
    "\n",
    "topic = \"Python 1.0 がリリースされた年は？\"\n",
    "async for event in graph.astream({\"topic\": topic}, thread, stream_mode=\"updates\"):\n",
    "    print(event)\n",
    "    print(\"\\n\")"
   ]
  },
  {
   "cell_type": "code",
   "execution_count": null,
   "metadata": {},
   "outputs": [],
   "source": [
    "# local search\n",
    "thread = {\n",
    "    \"configurable\": {\n",
    "        \"thread_id\": str(uuid.uuid4()),\n",
    "        \"skip_human_feedback\": True,\n",
    "        \"enable_deep_research\": False,\n",
    "        \"search_source\": \"local\",\n",
    "        \"local_search_config\": {\n",
    "            \"vector_store_path\": (TMP_DIR / \"vector_store\").as_posix(),\n",
    "            \"local_document_path\": local_document_path.as_posix(),\n",
    "        },\n",
    "    }\n",
    "}\n",
    "\n",
    "topic = \"Python 1.0 がリリースされた年は？\"\n",
    "async for event in graph.astream({\"topic\": topic}, thread, stream_mode=\"updates\"):\n",
    "    print(event)\n",
    "    print(\"\\n\")"
   ]
  },
  {
   "cell_type": "code",
   "execution_count": null,
   "metadata": {},
   "outputs": [],
   "source": [
    "# hybrid search\n",
    "thread = {\n",
    "    \"configurable\": {\n",
    "        \"thread_id\": str(uuid.uuid4()),\n",
    "        \"skip_human_feedback\": True,\n",
    "        \"enable_deep_research\": False,\n",
    "        \"search_source\": \"hybrid\",\n",
    "        \"web_search_config\": {\n",
    "            \"provider\": \"tavily\",\n",
    "            \"max_results\": 5,\n",
    "            \"include_raw_content\": False,\n",
    "        },\n",
    "        \"local_search_config\": {\n",
    "            \"vector_store_path\": (TMP_DIR / \"vector_store\").as_posix(),\n",
    "            \"local_document_path\": local_document_path.as_posix(),\n",
    "            \"collection_name\": \"wiki\",\n",
    "        },\n",
    "    }\n",
    "}\n",
    "\n",
    "topic = \"Python 1.0 がリリースされた年は？\"\n",
    "async for event in graph.astream({\"topic\": topic}, thread, stream_mode=\"updates\"):\n",
    "    print(event)\n",
    "    print(\"\\n\")"
   ]
  },
  {
   "cell_type": "code",
   "execution_count": 5,
   "metadata": {},
   "outputs": [],
   "source": [
    "# clean up\n",
    "import shutil\n",
    "\n",
    "shutil.rmtree(TMP_DIR)\n"
   ]
  },
  {
   "cell_type": "code",
   "execution_count": null,
   "metadata": {},
   "outputs": [],
   "source": []
  }
 ],
 "metadata": {
  "kernelspec": {
   "display_name": ".venv",
   "language": "python",
   "name": "python3"
  },
  "language_info": {
   "codemirror_mode": {
    "name": "ipython",
    "version": 3
   },
   "file_extension": ".py",
   "mimetype": "text/x-python",
   "name": "python",
   "nbconvert_exporter": "python",
   "pygments_lexer": "ipython3",
   "version": "3.11.9"
  }
 },
 "nbformat": 4,
 "nbformat_minor": 2
}
